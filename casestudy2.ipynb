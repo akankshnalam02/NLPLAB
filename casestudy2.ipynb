{
 "cells": [
  {
   "cell_type": "markdown",
   "id": "ed869944",
   "metadata": {},
   "source": [
    "### case study 2 ex 11"
   ]
  },
  {
   "cell_type": "code",
   "execution_count": 1,
   "id": "9ece6f20",
   "metadata": {},
   "outputs": [
    {
     "name": "stderr",
     "output_type": "stream",
     "text": [
      "[nltk_data] Downloading package stopwords to\n",
      "[nltk_data]     C:\\Users\\akanksh_02\\AppData\\Roaming\\nltk_data...\n",
      "[nltk_data]   Package stopwords is already up-to-date!\n",
      "[nltk_data] Downloading package wordnet to\n",
      "[nltk_data]     C:\\Users\\akanksh_02\\AppData\\Roaming\\nltk_data...\n",
      "[nltk_data]   Package wordnet is already up-to-date!\n"
     ]
    }
   ],
   "source": [
    "# Case Study-2\n",
    "import pandas as pd\n",
    "import numpy as np\n",
    "import matplotlib.pyplot as plt\n",
    "from sklearn import model_selection, preprocessing,linear_model,metrics\n",
    "from sklearn.feature_extraction.text import TfidfVectorizer, CountVectorizer\n",
    "from sklearn import ensemble\n",
    "from sklearn.metrics import roc_auc_score, roc_curve\n",
    "from xgboost import XGBClassifier\n",
    "\n",
    "import nltk\n",
    "nltk.download('stopwords')\n",
    "from nltk.corpus import stopwords\n",
    "from textblob import Word\n",
    "nltk.download('wordnet')\n",
    "\n",
    "from warnings import filterwarnings\n",
    "filterwarnings('ignore')"
   ]
  },
  {
   "cell_type": "code",
   "execution_count": 2,
   "id": "b400815d",
   "metadata": {},
   "outputs": [
    {
     "name": "stdout",
     "output_type": "stream",
     "text": [
      "Requirement already satisfied: xgboost in c:\\users\\akanksh_02\\anaconda3\\lib\\site-packages (2.0.3)\n",
      "Requirement already satisfied: numpy in c:\\users\\akanksh_02\\anaconda3\\lib\\site-packages (from xgboost) (1.24.3)\n",
      "Requirement already satisfied: scipy in c:\\users\\akanksh_02\\anaconda3\\lib\\site-packages (from xgboost) (1.11.1)\n",
      "Note: you may need to restart the kernel to use updated packages.\n"
     ]
    }
   ],
   "source": [
    "pip install xgboost"
   ]
  },
  {
   "cell_type": "code",
   "execution_count": 3,
   "id": "07ac7a27",
   "metadata": {},
   "outputs": [
    {
     "name": "stdout",
     "output_type": "stream",
     "text": [
      "   id  label                                              tweet\n",
      "0   1      0   @user when a father is dysfunctional and is s...\n",
      "1   2      0  @user @user thanks for #lyft credit i can't us...\n",
      "2   3      0                                bihday your majesty\n",
      "3   4      0  #model   i love u take with u all the time in ...\n",
      "4   5      0             factsguide: society now    #motivation\n",
      "-------------------------------------------------\n",
      "      id                                              tweet\n",
      "0  31963  #studiolife #aislife #requires #passion #dedic...\n",
      "1  31964   @user #white #supremacists want everyone to s...\n",
      "2  31965  safe ways to heal your #acne!!    #altwaystohe...\n",
      "3  31966  is the hp and the cursed child book up for res...\n",
      "4  31967    3rd #bihday to my amazing, hilarious #nephew...\n"
     ]
    }
   ],
   "source": [
    "# loading the dataset containing tweets of racist or sexist sentiments\n",
    "train_set = pd.read_csv(\"nlp2train.csv\")\n",
    "test_set = pd.read_csv(\"nlp2test.csv\")\n",
    "print(train_set.head())\n",
    "print(\"-------------------------------------------------\")\n",
    "print(test_set.head())"
   ]
  },
  {
   "cell_type": "code",
   "execution_count": 4,
   "id": "c879896a",
   "metadata": {},
   "outputs": [
    {
     "name": "stdout",
     "output_type": "stream",
     "text": [
      "Train_set shape: (31962, 3) \n",
      " Test_set shape: (17197, 2)\n",
      "Total no. of duplicates in trainset :  0\n"
     ]
    }
   ],
   "source": [
    "print(\"Train_set shape: {} \\n Test_set shape: {}\".format(train_set.shape,test_set.shape))\n",
    "print(\"Total no. of duplicates in trainset : \",train_set.duplicated().sum())"
   ]
  },
  {
   "cell_type": "code",
   "execution_count": 5,
   "id": "c8b78cb7",
   "metadata": {},
   "outputs": [
    {
     "data": {
      "text/html": [
       "<style type=\"text/css\">\n",
       "#T_f7705_row0_col0, #T_f7705_row0_col1 {\n",
       "  background-color: #ffff66;\n",
       "  color: #000000;\n",
       "}\n",
       "#T_f7705_row1_col0, #T_f7705_row1_col1 {\n",
       "  background-color: #008066;\n",
       "  color: #f1f1f1;\n",
       "}\n",
       "</style>\n",
       "<table id=\"T_f7705\">\n",
       "  <thead>\n",
       "    <tr>\n",
       "      <th class=\"blank level0\" >&nbsp;</th>\n",
       "      <th id=\"T_f7705_level0_col0\" class=\"col_heading level0 col0\" >id</th>\n",
       "      <th id=\"T_f7705_level0_col1\" class=\"col_heading level0 col1\" >tweet</th>\n",
       "    </tr>\n",
       "    <tr>\n",
       "      <th class=\"index_name level0\" >label</th>\n",
       "      <th class=\"blank col0\" >&nbsp;</th>\n",
       "      <th class=\"blank col1\" >&nbsp;</th>\n",
       "    </tr>\n",
       "  </thead>\n",
       "  <tbody>\n",
       "    <tr>\n",
       "      <th id=\"T_f7705_level0_row0\" class=\"row_heading level0 row0\" >0</th>\n",
       "      <td id=\"T_f7705_row0_col0\" class=\"data row0 col0\" >29720</td>\n",
       "      <td id=\"T_f7705_row0_col1\" class=\"data row0 col1\" >29720</td>\n",
       "    </tr>\n",
       "    <tr>\n",
       "      <th id=\"T_f7705_level0_row1\" class=\"row_heading level0 row1\" >1</th>\n",
       "      <td id=\"T_f7705_row1_col0\" class=\"data row1 col0\" >2242</td>\n",
       "      <td id=\"T_f7705_row1_col1\" class=\"data row1 col1\" >2242</td>\n",
       "    </tr>\n",
       "  </tbody>\n",
       "</table>\n"
      ],
      "text/plain": [
       "<pandas.io.formats.style.Styler at 0x26ebc67afd0>"
      ]
     },
     "execution_count": 5,
     "metadata": {},
     "output_type": "execute_result"
    }
   ],
   "source": [
    "# target-label value_counts using groupby\n",
    "train_set.groupby(\"label\").count().style.background_gradient(cmap = \"summer\")"
   ]
  },
  {
   "cell_type": "code",
   "execution_count": 6,
   "id": "023a2615",
   "metadata": {},
   "outputs": [
    {
     "name": "stdout",
     "output_type": "stream",
     "text": [
      "   id  label                                              tweet\n",
      "0   1      0  father dysfunctional selfish drag kid dysfunct...\n",
      "1   2      0  thanks lyft credit can't use cause offer wheel...\n",
      "2   3      0                                     bihday majesty\n",
      "3   4      0                        model love u take u time ur\n",
      "4   5      0                      factsguide society motivation\n",
      "      id                                              tweet\n",
      "0  31963  studiolife aislife requires passion dedication...\n",
      "1  31964  white supremacist want everyone see new bird m...\n",
      "2  31965   safe way heal acne altwaystoheal healthy healing\n",
      "3  31966  hp cursed child book reservation already yes h...\n",
      "4  31967  rd bihday amazing hilarious nephew eli ahmir u...\n"
     ]
    }
   ],
   "source": [
    "import re\n",
    "\n",
    "# Cleaning Raw tweets\n",
    "def clean_text(text):\n",
    "    #remove emails\n",
    "    text = ' '.join([i for i in text.split() if '@' not in i])\n",
    "    #remove web address ? Means matching anything to its left \\S all non white space characters\n",
    "    text = re.sub('http[s]?://\\S+', '', text)\n",
    "    #Filter to allow only alphabets\n",
    "    text = re.sub(r'[^a-zA-Z\\']', ' ', text)\n",
    "    #Remove Unicode characters\n",
    "    text = re.sub(r'[^\\x00-\\x7F]+', '', text)\n",
    "    #Convert to lowercase to maintain consistency\n",
    "    text = text.lower()\n",
    "    #remove double spaces\n",
    "    text = re.sub('\\s+', ' ',text)\n",
    "    return text\n",
    "train_set['tweet'] = train_set['tweet'].apply(lambda x: clean_text(x))\n",
    "test_set['tweet'] = test_set['tweet'].apply(lambda x: clean_text(x))\n",
    "\n",
    "# Removing stopwords\n",
    "sw = stopwords.words(\"english\")\n",
    "train_set['tweet'] = train_set['tweet'].apply(lambda x: \" \".join(x for x in x.split() if x not in sw))\n",
    "test_set['tweet'] = test_set['tweet'].apply(lambda x: \" \".join(x for x in x.split() if x not in sw))\n",
    "\n",
    "# Finally,Stemming the words\n",
    "train_set['tweet'] = train_set['tweet'].apply(lambda x: \" \".join([Word(word).lemmatize() for word in x.split()]))\n",
    "test_set['tweet'] = test_set['tweet'].apply(lambda x: \" \".join([Word(word).lemmatize() for word in x.split()]))\n",
    "\n",
    "print(train_set.head())\n",
    "print(test_set.head())"
   ]
  },
  {
   "cell_type": "code",
   "execution_count": 7,
   "id": "473450d1",
   "metadata": {},
   "outputs": [],
   "source": [
    "# removing 'id'-column because it is unnecessary for model-training\n",
    "train_set = train_set.drop('id', axis=1)\n",
    "test_set = test_set.drop('id', axis=1)\n",
    "\n",
    "# splitting train_set into train,test data\n",
    "X = train_set['tweet']\n",
    "y = train_set['label']\n",
    "from sklearn.model_selection import train_test_split\n",
    "x_train, x_test, y_train, y_test = train_test_split(X,y, test_size=0.2, random_state=11)"
   ]
  },
  {
   "cell_type": "code",
   "execution_count": 8,
   "id": "c5a3bfce",
   "metadata": {},
   "outputs": [
    {
     "data": {
      "text/plain": [
       "array([[0, 0, 0, ..., 0, 0, 0],\n",
       "       [0, 0, 0, ..., 0, 0, 0],\n",
       "       [0, 0, 0, ..., 0, 0, 0],\n",
       "       ...,\n",
       "       [0, 0, 0, ..., 0, 0, 0],\n",
       "       [0, 0, 0, ..., 0, 0, 0],\n",
       "       [0, 0, 0, ..., 0, 0, 0]], dtype=int64)"
      ]
     },
     "execution_count": 8,
     "metadata": {},
     "output_type": "execute_result"
    }
   ],
   "source": [
    "# Vectorization using CountVectorizer\n",
    "vectorizer = CountVectorizer()\n",
    "vectorizer.fit(x_train)\n",
    "x_train_count = vectorizer.transform(x_train)\n",
    "x_test_count = vectorizer.transform(x_test)\n",
    "x_train_count.toarray()"
   ]
  },
  {
   "cell_type": "code",
   "execution_count": 9,
   "id": "ebb059ee",
   "metadata": {},
   "outputs": [
    {
     "data": {
      "text/plain": [
       "array([[0., 0., 0., ..., 0., 0., 0.],\n",
       "       [0., 0., 0., ..., 0., 0., 0.],\n",
       "       [0., 0., 0., ..., 0., 0., 0.],\n",
       "       ...,\n",
       "       [0., 0., 0., ..., 0., 0., 0.],\n",
       "       [0., 0., 0., ..., 0., 0., 0.],\n",
       "       [0., 0., 0., ..., 0., 0., 0.]])"
      ]
     },
     "execution_count": 9,
     "metadata": {},
     "output_type": "execute_result"
    }
   ],
   "source": [
    "# Vectorization using TfidfVectorizer\n",
    "tf_idf_vectorizer = TfidfVectorizer()\n",
    "tf_idf_vectorizer.fit(x_train)\n",
    "x_train_tf_idf = tf_idf_vectorizer.transform(x_train)\n",
    "x_test_tf_idf = tf_idf_vectorizer.transform(x_test)\n",
    "x_train_tf_idf.toarray()"
   ]
  },
  {
   "cell_type": "code",
   "execution_count": 10,
   "id": "135b7c04",
   "metadata": {},
   "outputs": [
    {
     "name": "stdout",
     "output_type": "stream",
     "text": [
      "[0.95625    0.940625   0.9375     0.946875   0.94375    0.9625\n",
      " 0.94375    0.94375    0.9375     0.953125   0.940625   0.95625\n",
      " 0.953125   0.95297806 0.94357367 0.94670846 0.94357367 0.94357367\n",
      " 0.95611285 0.95611285]\n"
     ]
    }
   ],
   "source": [
    "# model training and Cross-validation using count_vectorizer-data\n",
    "from sklearn.linear_model import LogisticRegression\n",
    "log_model = LogisticRegression()\n",
    "log_model.fit(x_train_count, y_train)\n",
    "acc = model_selection.cross_val_score(log_model, x_test_count, y_test, cv=20)     # cv=20 indicates it generates 20-models on test_data\n",
    "print(acc)"
   ]
  },
  {
   "cell_type": "code",
   "execution_count": 11,
   "id": "7c48ea30",
   "metadata": {},
   "outputs": [
    {
     "name": "stdout",
     "output_type": "stream",
     "text": [
      "Logistic Regression model with count-vectors method\n",
      "Accuracy :  94.79129114420066\n"
     ]
    }
   ],
   "source": [
    "acc_mean = np.mean(acc)\n",
    "print(\"Logistic Regression model with count-vectors method\")\n",
    "print(\"Accuracy : \",(acc_mean)*100)"
   ]
  },
  {
   "cell_type": "code",
   "execution_count": 12,
   "id": "88d48328",
   "metadata": {},
   "outputs": [
    {
     "name": "stdout",
     "output_type": "stream",
     "text": [
      "[0.928125   0.93125    0.925      0.925      0.9375     0.93125\n",
      " 0.928125   0.928125   0.928125   0.940625   0.928125   0.928125\n",
      " 0.934375   0.93103448 0.93416928 0.92789969 0.94043887 0.92789969\n",
      " 0.92789969 0.93730408]\n"
     ]
    }
   ],
   "source": [
    "# model training and Cross-validation using Tfidf_vectorizer-data\n",
    "from sklearn.linear_model import LogisticRegression\n",
    "log_model = LogisticRegression()\n",
    "log_model.fit(x_train_tf_idf, y_train)\n",
    "acc = model_selection.cross_val_score(log_model, x_test_tf_idf, y_test, cv=20)     # cv=20 indicates it generates 20-models on test_data\n",
    "print(acc)"
   ]
  },
  {
   "cell_type": "code",
   "execution_count": 13,
   "id": "1c1b893b",
   "metadata": {},
   "outputs": [
    {
     "name": "stdout",
     "output_type": "stream",
     "text": [
      "Logistic Regression model with Tfidf-vectors method\n",
      "Accuracy :  93.10197884012538\n"
     ]
    }
   ],
   "source": [
    "acc_mean = np.mean(acc)\n",
    "print(\"Logistic Regression model with Tfidf-vectors method\")\n",
    "print(\"Accuracy : \",(acc_mean)*100)"
   ]
  },
  {
   "cell_type": "code",
   "execution_count": 14,
   "id": "8cc42d4d",
   "metadata": {},
   "outputs": [
    {
     "data": {
      "image/png": "[encoded data removed]",
      "text/plain": [
       "<Figure size 640x480 with 1 Axes>"
      ]
     },
     "metadata": {},
     "output_type": "display_data"
    }
   ],
   "source": [
    "# ROC-curve\n",
    "X = x_train_count.astype('float64')\n",
    "y = y_train\n",
    "logistic_roc_auc = roc_auc_score(y, log_model.predict(X))\n",
    "fpr, tpr, thresholds = roc_curve(y, log_model.predict_proba(X)[:,1])\n",
    "\n",
    "plt.figure()\n",
    "plt.plot(fpr, tpr,label='AUC (area= %0.2f)' % logistic_roc_auc)\n",
    "plt.plot([0, 1], [0, 1],'r--')\n",
    "plt.xlim([0.0, 1.0])\n",
    "plt.ylim([0.0, 1.05])\n",
    "plt.legend()\n",
    "plt.xlabel('False Positive Rate')\n",
    "plt.ylabel('True Positive Rate')\n",
    "plt.title('ROC')\n",
    "plt.show()"
   ]
  },
  {
   "cell_type": "code",
   "execution_count": 15,
   "id": "b3da5a00",
   "metadata": {},
   "outputs": [
    {
     "name": "stdout",
     "output_type": "stream",
     "text": [
      "father dysfunctional selfish drag kid dysfunction run\n"
     ]
    },
    {
     "data": {
      "text/plain": [
       "array([0], dtype=int64)"
      ]
     },
     "execution_count": 15,
     "metadata": {},
     "output_type": "execute_result"
    }
   ],
   "source": [
    "# testing hate_speech detection\n",
    "print(x_train[0])\n",
    "new_tweet = x_train[0]\n",
    "new_tweet_features = vectorizer.transform([new_tweet])\n",
    "log_model.predict(new_tweet_features)"
   ]
  },
  {
   "cell_type": "code",
   "execution_count": 16,
   "id": "ad3ff7dd",
   "metadata": {},
   "outputs": [
    {
     "name": "stdout",
     "output_type": "stream",
     "text": [
      "cnn call michigan middle school 'build wall' chant '' tcot\n"
     ]
    },
    {
     "data": {
      "text/plain": [
       "array([1], dtype=int64)"
      ]
     },
     "execution_count": 16,
     "metadata": {},
     "output_type": "execute_result"
    }
   ],
   "source": [
    "print(x_train[13])\n",
    "new_tweet = x_train[13]\n",
    "new_tweet_features = vectorizer.transform([new_tweet])\n",
    "log_model.predict(new_tweet_features)"
   ]
  },
  {
   "cell_type": "code",
   "execution_count": 17,
   "id": "2355f3aa",
   "metadata": {},
   "outputs": [
    {
     "data": {
      "text/html": [
       "<div>\n",
       "<style scoped>\n",
       "    .dataframe tbody tr th:only-of-type {\n",
       "        vertical-align: middle;\n",
       "    }\n",
       "\n",
       "    .dataframe tbody tr th {\n",
       "        vertical-align: top;\n",
       "    }\n",
       "\n",
       "    .dataframe thead th {\n",
       "        text-align: right;\n",
       "    }\n",
       "</style>\n",
       "<table border=\"1\" class=\"dataframe\">\n",
       "  <thead>\n",
       "    <tr style=\"text-align: right;\">\n",
       "      <th></th>\n",
       "      <th>label</th>\n",
       "      <th>tweet</th>\n",
       "    </tr>\n",
       "  </thead>\n",
       "  <tbody>\n",
       "    <tr>\n",
       "      <th>0</th>\n",
       "      <td>0</td>\n",
       "      <td>father dysfunctional selfish drag kid dysfunct...</td>\n",
       "    </tr>\n",
       "    <tr>\n",
       "      <th>1</th>\n",
       "      <td>0</td>\n",
       "      <td>thanks lyft credit can't use cause offer wheel...</td>\n",
       "    </tr>\n",
       "    <tr>\n",
       "      <th>2</th>\n",
       "      <td>0</td>\n",
       "      <td>bihday majesty</td>\n",
       "    </tr>\n",
       "    <tr>\n",
       "      <th>3</th>\n",
       "      <td>0</td>\n",
       "      <td>model love u take u time ur</td>\n",
       "    </tr>\n",
       "    <tr>\n",
       "      <th>4</th>\n",
       "      <td>0</td>\n",
       "      <td>factsguide society motivation</td>\n",
       "    </tr>\n",
       "    <tr>\n",
       "      <th>5</th>\n",
       "      <td>0</td>\n",
       "      <td>huge fan fare big talking leave chaos pay disp...</td>\n",
       "    </tr>\n",
       "    <tr>\n",
       "      <th>6</th>\n",
       "      <td>0</td>\n",
       "      <td>camping tomorrow danny</td>\n",
       "    </tr>\n",
       "    <tr>\n",
       "      <th>7</th>\n",
       "      <td>0</td>\n",
       "      <td>next school year year exam can't think school ...</td>\n",
       "    </tr>\n",
       "    <tr>\n",
       "      <th>8</th>\n",
       "      <td>0</td>\n",
       "      <td>love land allin cavs champion cleveland clevel...</td>\n",
       "    </tr>\n",
       "    <tr>\n",
       "      <th>9</th>\n",
       "      <td>0</td>\n",
       "      <td>welcome i'm gr</td>\n",
       "    </tr>\n",
       "    <tr>\n",
       "      <th>10</th>\n",
       "      <td>0</td>\n",
       "      <td>ireland consumer price index mom climbed previ...</td>\n",
       "    </tr>\n",
       "    <tr>\n",
       "      <th>11</th>\n",
       "      <td>0</td>\n",
       "      <td>selfish orlando standwithorlando pulseshooting...</td>\n",
       "    </tr>\n",
       "    <tr>\n",
       "      <th>12</th>\n",
       "      <td>0</td>\n",
       "      <td>get see daddy today day gettingfed</td>\n",
       "    </tr>\n",
       "    <tr>\n",
       "      <th>13</th>\n",
       "      <td>1</td>\n",
       "      <td>cnn call michigan middle school 'build wall' c...</td>\n",
       "    </tr>\n",
       "    <tr>\n",
       "      <th>14</th>\n",
       "      <td>1</td>\n",
       "      <td>comment australia opkillingbay seashepherd hel...</td>\n",
       "    </tr>\n",
       "    <tr>\n",
       "      <th>15</th>\n",
       "      <td>0</td>\n",
       "      <td>ouch junior angry got junior yugyoem omg</td>\n",
       "    </tr>\n",
       "    <tr>\n",
       "      <th>16</th>\n",
       "      <td>0</td>\n",
       "      <td>thankful paner thankful positive</td>\n",
       "    </tr>\n",
       "    <tr>\n",
       "      <th>17</th>\n",
       "      <td>1</td>\n",
       "      <td>retweet agree</td>\n",
       "    </tr>\n",
       "    <tr>\n",
       "      <th>18</th>\n",
       "      <td>0</td>\n",
       "      <td>friday smile around via ig user cooky make people</td>\n",
       "    </tr>\n",
       "    <tr>\n",
       "      <th>19</th>\n",
       "      <td>0</td>\n",
       "      <td>know essential oil made chemical</td>\n",
       "    </tr>\n",
       "  </tbody>\n",
       "</table>\n",
       "</div>"
      ],
      "text/plain": [
       "    label                                              tweet\n",
       "0       0  father dysfunctional selfish drag kid dysfunct...\n",
       "1       0  thanks lyft credit can't use cause offer wheel...\n",
       "2       0                                     bihday majesty\n",
       "3       0                        model love u take u time ur\n",
       "4       0                      factsguide society motivation\n",
       "5       0  huge fan fare big talking leave chaos pay disp...\n",
       "6       0                             camping tomorrow danny\n",
       "7       0  next school year year exam can't think school ...\n",
       "8       0  love land allin cavs champion cleveland clevel...\n",
       "9       0                                     welcome i'm gr\n",
       "10      0  ireland consumer price index mom climbed previ...\n",
       "11      0  selfish orlando standwithorlando pulseshooting...\n",
       "12      0                 get see daddy today day gettingfed\n",
       "13      1  cnn call michigan middle school 'build wall' c...\n",
       "14      1  comment australia opkillingbay seashepherd hel...\n",
       "15      0           ouch junior angry got junior yugyoem omg\n",
       "16      0                   thankful paner thankful positive\n",
       "17      1                                      retweet agree\n",
       "18      0  friday smile around via ig user cooky make people\n",
       "19      0                   know essential oil made chemical"
      ]
     },
     "execution_count": 17,
     "metadata": {},
     "output_type": "execute_result"
    }
   ],
   "source": [
    "train_set.head(20)"
   ]
  },
  {
   "cell_type": "code",
   "execution_count": 18,
   "id": "e3530174",
   "metadata": {},
   "outputs": [],
   "source": [
    "####### or take this code for google drive\n",
    "## check hastags"
   ]
  },
  {
   "cell_type": "code",
   "execution_count": 19,
   "id": "6bdc1257",
   "metadata": {},
   "outputs": [
    {
     "name": "stdout",
     "output_type": "stream",
     "text": [
      "\n",
      "LIBRARIES WERE SUCCESSFULLY IMPORTED...\n"
     ]
    },
    {
     "name": "stderr",
     "output_type": "stream",
     "text": [
      "[nltk_data] Downloading package stopwords to\n",
      "[nltk_data]     C:\\Users\\akanksh_02\\AppData\\Roaming\\nltk_data...\n",
      "[nltk_data]   Package stopwords is already up-to-date!\n",
      "[nltk_data] Downloading package wordnet to\n",
      "[nltk_data]     C:\\Users\\akanksh_02\\AppData\\Roaming\\nltk_data...\n",
      "[nltk_data]   Package wordnet is already up-to-date!\n"
     ]
    },
    {
     "name": "stdout",
     "output_type": "stream",
     "text": [
      "\n",
      "DATASETS WERE SUCCESSFULLY LOADED...\n"
     ]
    },
    {
     "data": {
      "text/html": [
       "<div>\n",
       "<style scoped>\n",
       "    .dataframe tbody tr th:only-of-type {\n",
       "        vertical-align: middle;\n",
       "    }\n",
       "\n",
       "    .dataframe tbody tr th {\n",
       "        vertical-align: top;\n",
       "    }\n",
       "\n",
       "    .dataframe thead th {\n",
       "        text-align: right;\n",
       "    }\n",
       "</style>\n",
       "<table border=\"1\" class=\"dataframe\">\n",
       "  <thead>\n",
       "    <tr style=\"text-align: right;\">\n",
       "      <th></th>\n",
       "      <th>id</th>\n",
       "      <th>label</th>\n",
       "      <th>tweet</th>\n",
       "    </tr>\n",
       "  </thead>\n",
       "  <tbody>\n",
       "    <tr>\n",
       "      <th>0</th>\n",
       "      <td>1</td>\n",
       "      <td>0</td>\n",
       "      <td>@user when a father is dysfunctional and is s...</td>\n",
       "    </tr>\n",
       "    <tr>\n",
       "      <th>1</th>\n",
       "      <td>2</td>\n",
       "      <td>0</td>\n",
       "      <td>@user @user thanks for #lyft credit i can't us...</td>\n",
       "    </tr>\n",
       "    <tr>\n",
       "      <th>2</th>\n",
       "      <td>3</td>\n",
       "      <td>0</td>\n",
       "      <td>bihday your majesty</td>\n",
       "    </tr>\n",
       "    <tr>\n",
       "      <th>3</th>\n",
       "      <td>4</td>\n",
       "      <td>0</td>\n",
       "      <td>#model   i love u take with u all the time in ...</td>\n",
       "    </tr>\n",
       "    <tr>\n",
       "      <th>4</th>\n",
       "      <td>5</td>\n",
       "      <td>0</td>\n",
       "      <td>factsguide: society now    #motivation</td>\n",
       "    </tr>\n",
       "  </tbody>\n",
       "</table>\n",
       "</div>"
      ],
      "text/plain": [
       "   id  label                                              tweet\n",
       "0   1      0   @user when a father is dysfunctional and is s...\n",
       "1   2      0  @user @user thanks for #lyft credit i can't us...\n",
       "2   3      0                                bihday your majesty\n",
       "3   4      0  #model   i love u take with u all the time in ...\n",
       "4   5      0             factsguide: society now    #motivation"
      ]
     },
     "metadata": {},
     "output_type": "display_data"
    },
    {
     "data": {
      "text/html": [
       "<div>\n",
       "<style scoped>\n",
       "    .dataframe tbody tr th:only-of-type {\n",
       "        vertical-align: middle;\n",
       "    }\n",
       "\n",
       "    .dataframe tbody tr th {\n",
       "        vertical-align: top;\n",
       "    }\n",
       "\n",
       "    .dataframe thead th {\n",
       "        text-align: right;\n",
       "    }\n",
       "</style>\n",
       "<table border=\"1\" class=\"dataframe\">\n",
       "  <thead>\n",
       "    <tr style=\"text-align: right;\">\n",
       "      <th></th>\n",
       "      <th>id</th>\n",
       "      <th>tweet</th>\n",
       "    </tr>\n",
       "  </thead>\n",
       "  <tbody>\n",
       "    <tr>\n",
       "      <th>0</th>\n",
       "      <td>31963</td>\n",
       "      <td>#studiolife #aislife #requires #passion #dedic...</td>\n",
       "    </tr>\n",
       "    <tr>\n",
       "      <th>1</th>\n",
       "      <td>31964</td>\n",
       "      <td>@user #white #supremacists want everyone to s...</td>\n",
       "    </tr>\n",
       "    <tr>\n",
       "      <th>2</th>\n",
       "      <td>31965</td>\n",
       "      <td>safe ways to heal your #acne!!    #altwaystohe...</td>\n",
       "    </tr>\n",
       "    <tr>\n",
       "      <th>3</th>\n",
       "      <td>31966</td>\n",
       "      <td>is the hp and the cursed child book up for res...</td>\n",
       "    </tr>\n",
       "    <tr>\n",
       "      <th>4</th>\n",
       "      <td>31967</td>\n",
       "      <td>3rd #bihday to my amazing, hilarious #nephew...</td>\n",
       "    </tr>\n",
       "  </tbody>\n",
       "</table>\n",
       "</div>"
      ],
      "text/plain": [
       "      id                                              tweet\n",
       "0  31963  #studiolife #aislife #requires #passion #dedic...\n",
       "1  31964   @user #white #supremacists want everyone to s...\n",
       "2  31965  safe ways to heal your #acne!!    #altwaystohe...\n",
       "3  31966  is the hp and the cursed child book up for res...\n",
       "4  31967    3rd #bihday to my amazing, hilarious #nephew..."
      ]
     },
     "metadata": {},
     "output_type": "display_data"
    }
   ],
   "source": [
    "import pandas as pd\n",
    "import numpy as np\n",
    "import matplotlib.pyplot as plt\n",
    "from sklearn import model_selection, preprocessing, linear_model, metrics\n",
    "from sklearn.feature_extraction.text import TfidfVectorizer, CountVectorizer\n",
    "from sklearn import ensemble\n",
    "from sklearn.metrics import roc_auc_score, roc_curve\n",
    "from xgboost import XGBClassifier\n",
    "import nltk\n",
    "nltk.download('stopwords')\n",
    "from nltk.corpus import stopwords\n",
    "from textblob import Word\n",
    "nltk.download('wordnet')\n",
    "from warnings import filterwarnings\n",
    "filterwarnings('ignore')\n",
    "\n",
    "print(\"\\nLIBRARIES WERE SUCCESSFULLY IMPORTED...\")\n",
    "\n",
    "# Load datasets\n",
    "train_set = pd.read_csv(\"nlp2train.csv\", encoding=\"utf-8\", engine=\"python\", header=0)\n",
    "test_set = pd.read_csv(\"nlp2test.csv\", encoding=\"utf-8\", engine=\"python\", header=0)\n",
    "\n",
    "print(\"\\nDATASETS WERE SUCCESSFULLY LOADED...\")\n",
    "display(train_set.head(5))\n",
    "display(test_set.head(5))\n"
   ]
  },
  {
   "cell_type": "code",
   "execution_count": 20,
   "id": "f9355533",
   "metadata": {},
   "outputs": [
    {
     "name": "stdout",
     "output_type": "stream",
     "text": [
      "Train set shape: (31962, 3) and test set shape: (17197, 2)\n",
      "Totally there are 0 duplicated values in train_set\n"
     ]
    },
    {
     "data": {
      "text/html": [
       "<style type=\"text/css\">\n",
       "#T_b1a73_row0_col0, #T_b1a73_row0_col1 {\n",
       "  background-color: #ffff66;\n",
       "  color: #000000;\n",
       "}\n",
       "#T_b1a73_row1_col0, #T_b1a73_row1_col1 {\n",
       "  background-color: #008066;\n",
       "  color: #f1f1f1;\n",
       "}\n",
       "</style>\n",
       "<table id=\"T_b1a73\">\n",
       "  <thead>\n",
       "    <tr>\n",
       "      <th class=\"blank level0\" >&nbsp;</th>\n",
       "      <th id=\"T_b1a73_level0_col0\" class=\"col_heading level0 col0\" >id</th>\n",
       "      <th id=\"T_b1a73_level0_col1\" class=\"col_heading level0 col1\" >tweet</th>\n",
       "    </tr>\n",
       "    <tr>\n",
       "      <th class=\"index_name level0\" >label</th>\n",
       "      <th class=\"blank col0\" >&nbsp;</th>\n",
       "      <th class=\"blank col1\" >&nbsp;</th>\n",
       "    </tr>\n",
       "  </thead>\n",
       "  <tbody>\n",
       "    <tr>\n",
       "      <th id=\"T_b1a73_level0_row0\" class=\"row_heading level0 row0\" >0</th>\n",
       "      <td id=\"T_b1a73_row0_col0\" class=\"data row0 col0\" >29720</td>\n",
       "      <td id=\"T_b1a73_row0_col1\" class=\"data row0 col1\" >29720</td>\n",
       "    </tr>\n",
       "    <tr>\n",
       "      <th id=\"T_b1a73_level0_row1\" class=\"row_heading level0 row1\" >1</th>\n",
       "      <td id=\"T_b1a73_row1_col0\" class=\"data row1 col0\" >2242</td>\n",
       "      <td id=\"T_b1a73_row1_col1\" class=\"data row1 col1\" >2242</td>\n",
       "    </tr>\n",
       "  </tbody>\n",
       "</table>\n"
      ],
      "text/plain": [
       "<pandas.io.formats.style.Styler at 0x26ebf23df10>"
      ]
     },
     "metadata": {},
     "output_type": "display_data"
    },
    {
     "name": "stdout",
     "output_type": "stream",
     "text": [
      "\n",
      "CONVERTED SUCCESSFULLY...\n",
      "\n",
      "DELETED SUCCESSFULLY...\n",
      "\n",
      "STOPWORDS DELETED SUCCESSFULLY...\n",
      "\n",
      "'ID' COLUMNS DROPPED SUCCESSFULLY...\n",
      "\n",
      "DIVIDED SUCCESSFULLY...\n",
      "[[0 0 0 ... 0 0 0]\n",
      " [0 0 0 ... 0 0 0]\n",
      " [0 0 0 ... 0 0 0]\n",
      " ...\n",
      " [0 0 0 ... 0 0 0]\n",
      " [0 0 0 ... 0 0 0]\n",
      " [0 0 0 ... 0 0 0]]\n"
     ]
    },
    {
     "data": {
      "image/png": "[encoded data removed]",
      "text/plain": [
       "<IPython.core.display.Image object>"
      ]
     },
     "metadata": {},
     "output_type": "display_data"
    },
    {
     "name": "stdout",
     "output_type": "stream",
     "text": [
      "Requirement already satisfied: ipython in c:\\users\\akanksh_02\\anaconda3\\lib\\site-packages (8.15.0)\n",
      "Requirement already satisfied: backcall in c:\\users\\akanksh_02\\anaconda3\\lib\\site-packages (from ipython) (0.2.0)\n",
      "Requirement already satisfied: decorator in c:\\users\\akanksh_02\\anaconda3\\lib\\site-packages (from ipython) (5.1.1)\n",
      "Requirement already satisfied: jedi>=0.16 in c:\\users\\akanksh_02\\anaconda3\\lib\\site-packages (from ipython) (0.18.1)\n",
      "Requirement already satisfied: matplotlib-inline in c:\\users\\akanksh_02\\anaconda3\\lib\\site-packages (from ipython) (0.1.6)\n",
      "Requirement already satisfied: pickleshare in c:\\users\\akanksh_02\\anaconda3\\lib\\site-packages (from ipython) (0.7.5)\n",
      "Requirement already satisfied: prompt-toolkit!=3.0.37,<3.1.0,>=3.0.30 in c:\\users\\akanksh_02\\anaconda3\\lib\\site-packages (from ipython) (3.0.36)\n",
      "Requirement already satisfied: pygments>=2.4.0 in c:\\users\\akanksh_02\\anaconda3\\lib\\site-packages (from ipython) (2.15.1)\n",
      "Requirement already satisfied: stack-data in c:\\users\\akanksh_02\\anaconda3\\lib\\site-packages (from ipython) (0.2.0)\n",
      "Requirement already satisfied: traitlets>=5 in c:\\users\\akanksh_02\\anaconda3\\lib\\site-packages (from ipython) (5.7.1)\n",
      "Requirement already satisfied: colorama in c:\\users\\akanksh_02\\anaconda3\\lib\\site-packages (from ipython) (0.4.6)\n",
      "Requirement already satisfied: parso<0.9.0,>=0.8.0 in c:\\users\\akanksh_02\\anaconda3\\lib\\site-packages (from jedi>=0.16->ipython) (0.8.3)\n",
      "Requirement already satisfied: wcwidth in c:\\users\\akanksh_02\\anaconda3\\lib\\site-packages (from prompt-toolkit!=3.0.37,<3.1.0,>=3.0.30->ipython) (0.2.5)\n",
      "Requirement already satisfied: executing in c:\\users\\akanksh_02\\anaconda3\\lib\\site-packages (from stack-data->ipython) (0.8.3)\n",
      "Requirement already satisfied: asttokens in c:\\users\\akanksh_02\\anaconda3\\lib\\site-packages (from stack-data->ipython) (2.0.5)\n",
      "Requirement already satisfied: pure-eval in c:\\users\\akanksh_02\\anaconda3\\lib\\site-packages (from stack-data->ipython) (0.2.2)\n",
      "Requirement already satisfied: six in c:\\users\\akanksh_02\\anaconda3\\lib\\site-packages (from asttokens->stack-data->ipython) (1.16.0)\n"
     ]
    }
   ],
   "source": [
    "\n",
    "print(\"Train set shape: {} and test set shape: {}\".format(train_set.shape, test_set.shape))\n",
    "print(\"Totally there are {} duplicated values in train_set\".format(train_set.duplicated().sum()))\n",
    "\n",
    "# Display the count of labels\n",
    "display(train_set.groupby(\"label\").count().style.background_gradient(cmap=\"summer\"))\n",
    "\n",
    "# Convert tweets to lowercase\n",
    "train_set[\"tweet\"] = train_set[\"tweet\"].apply(lambda x: \" \".join(x.lower() for x in x.split()))\n",
    "test_set[\"tweet\"] = test_set[\"tweet\"].apply(lambda x: \" \".join(x.lower() for x in x.split()))\n",
    "print(\"\\nCONVERTED SUCCESSFULLY...\")\n",
    "\n",
    "# Remove punctuation\n",
    "train_set[\"tweet\"] = train_set[\"tweet\"].str.replace('[^\\w\\s]', '', regex=True)\n",
    "test_set[\"tweet\"] = test_set[\"tweet\"].str.replace('[^\\w\\s]', '', regex=True)\n",
    "print(\"\\nDELETED SUCCESSFULLY...\")\n",
    "\n",
    "# Remove stopwords\n",
    "sw = set(stopwords.words(\"english\"))\n",
    "train_set['tweet'] = train_set['tweet'].apply(lambda x: \" \".join(x for x in x.split() if x not in sw))\n",
    "test_set['tweet'] = test_set['tweet'].apply(lambda x: \" \".join(x for x in x.split() if x not in sw))\n",
    "print(\"\\nSTOPWORDS DELETED SUCCESSFULLY...\")\n",
    "\n",
    "# Lemmatize words\n",
    "train_set['tweet'] = train_set['tweet'].apply(lambda x: \" \".join([Word(word).lemmatize() for word in x.split()]))\n",
    "test_set['tweet'] = test_set['tweet'].apply(lambda x: \" \".join([Word(word).lemmatize() for word in x.split()]))\n",
    "\n",
    "# Drop 'id' column if it exists\n",
    "if 'id' in train_set.columns:\n",
    "    train_set = train_set.drop(\"id\", axis=1)\n",
    "if 'id' in test_set.columns:\n",
    "    test_set = test_set.drop(\"id\", axis=1)\n",
    "print(\"\\n'ID' COLUMNS DROPPED SUCCESSFULLY...\")\n",
    "\n",
    "# Split the data into train and test sets\n",
    "x = train_set[\"tweet\"]\n",
    "y = train_set[\"label\"]\n",
    "train_x, test_x, train_y, test_y = model_selection.train_test_split(x, y, test_size=0.20, shuffle=True, random_state=11)\n",
    "print(\"\\nDIVIDED SUCCESSFULLY...\")\n",
    "\n",
    "# Vectorizing the text data\n",
    "vectorizer = CountVectorizer()\n",
    "vectorizer.fit(train_x)\n",
    "x_train_count = vectorizer.transform(train_x)\n",
    "x_test_count = vectorizer.transform(test_x)\n",
    "print(x_train_count.toarray())\n",
    "\n",
    "######\n",
    "from IPython.display import Image, display\n",
    "# Display the image\n",
    "display(Image(filename='embeddings.png'))\n",
    "# Install the IPython library if not already installed\n",
    "!pip install ipython"
   ]
  },
  {
   "cell_type": "code",
   "execution_count": 21,
   "id": "e2ed36e3",
   "metadata": {},
   "outputs": [
    {
     "name": "stdout",
     "output_type": "stream",
     "text": [
      "[0.95625    0.946875   0.946875   0.95       0.95       0.953125\n",
      " 0.946875   0.946875   0.940625   0.965625   0.9375     0.953125\n",
      " 0.94375    0.94984326 0.94357367 0.94670846 0.94670846 0.94357367\n",
      " 0.94984326 0.95297806]\n",
      "\n",
      "Logistic regressionmodelwith 'count-vectors' method\n",
      "Accuracy ratio:  0.9485364420062699\n",
      "0.9307072884012537\n",
      "\n",
      "Logistic regressionmodelwith 'count-vectors' method\n",
      "Accuracy ratio:  0.9307072884012537\n"
     ]
    },
    {
     "data": {
      "image/png": "[encoded data removed]",
      "text/plain": [
       "<Figure size 640x480 with 1 Axes>"
      ]
     },
     "metadata": {},
     "output_type": "display_data"
    },
    {
     "name": "stdout",
     "output_type": "stream",
     "text": [
      "user father dysfunctional selfish drag kid dysfunction run\n"
     ]
    },
    {
     "data": {
      "text/plain": [
       "array([0], dtype=int64)"
      ]
     },
     "execution_count": 21,
     "metadata": {},
     "output_type": "execute_result"
    }
   ],
   "source": [
    "tf_idf_word_vectorizer = TfidfVectorizer()\n",
    "tf_idf_word_vectorizer.fit(train_x)\n",
    "x_train_tf_idf_word = tf_idf_word_vectorizer.transform(train_x)\n",
    "x_test_tf_idf_word = tf_idf_word_vectorizer.transform(test_x)\n",
    "x_train_tf_idf_word.toarray()\n",
    "log = linear_model.LogisticRegression()\n",
    "log_model = log.fit(x_train_count, train_y)\n",
    "accuracy = model_selection.cross_val_score(log_model, x_test_count, test_y, cv = 20)\n",
    "print(accuracy)\n",
    "mean = np.mean(accuracy)\n",
    "print(\"\\nLogistic regressionmodelwith 'count-vectors' method\")\n",
    "print(\"Accuracy ratio: \", mean)\n",
    "log = linear_model.LogisticRegression()\n",
    "log_model = log.fit(x_train_tf_idf_word, train_y)\n",
    "accuracy = model_selection.cross_val_score(log_model,\n",
    "x_test_tf_idf_word,\n",
    "test_y,\n",
    "cv = 20).mean()\n",
    "print(accuracy)\n",
    "mean = np.mean(accuracy)\n",
    "print(\"\\nLogistic regressionmodelwith 'count-vectors' method\")\n",
    "print(\"Accuracy ratio: \", mean)\n",
    "y = train_y\n",
    "X = x_train_count.astype(\"float64\")\n",
    "logit_roc_auc = roc_auc_score(y, log_model.predict(X))\n",
    "fpr, tpr,thresholds = roc_curve(y, log_model.predict_proba(X)[:,1])\n",
    "plt.figure()\n",
    "plt.plot(fpr, tpr,label='AUC (area= %0.2f)' % logit_roc_auc)\n",
    "plt.plot([0, 1], [0, 1],'r--')\n",
    "plt.xlim([0.0, 1.0])\n",
    "plt.ylim([0.0, 1.05])\n",
    "plt.legend()\n",
    "plt.xlabel('False PositiveRate')\n",
    "plt.ylabel('True PositiveRate')\n",
    "plt.title('ROC')\n",
    "plt.show()\n",
    "print(train_x[0])\n",
    "new_tweet = train_x[0]\n",
    "new_tweet_features = vectorizer.transform([new_tweet])\n",
    "log_model.predict(new_tweet_features)"
   ]
  },
  {
   "cell_type": "code",
   "execution_count": null,
   "id": "557b9abe",
   "metadata": {},
   "outputs": [],
   "source": []
  }
 ],
 "metadata": {
  "kernelspec": {
   "display_name": "Python 3 (ipykernel)",
   "language": "python",
   "name": "python3"
  },
  "language_info": {
   "codemirror_mode": {
    "name": "ipython",
    "version": 3
   },
   "file_extension": ".py",
   "mimetype": "text/x-python",
   "name": "python",
   "nbconvert_exporter": "python",
   "pygments_lexer": "ipython3",
   "version": "3.11.5"
  }
 },
 "nbformat": 4,
 "nbformat_minor": 5
}
