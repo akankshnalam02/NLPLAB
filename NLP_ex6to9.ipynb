{
 "cells": [
  {
   "cell_type": "markdown",
   "id": "0478ea3f",
   "metadata": {},
   "source": [
    "### Excersise 6"
   ]
  },
  {
   "cell_type": "code",
   "execution_count": 1,
   "id": "9258d4f0",
   "metadata": {},
   "outputs": [
    {
     "name": "stdout",
     "output_type": "stream",
     "text": [
      "   analyze      best   courses  data    fields  important        is      most  \\\n",
      "0  0.00000  0.000000  0.000000   0.0  0.043375   0.043375  0.016008  0.043375   \n",
      "1  0.00000  0.053013  0.053013   0.0  0.000000   0.000000  0.019566  0.000000   \n",
      "2  0.11928  0.000000  0.000000   0.0  0.000000   0.000000  0.000000  0.000000   \n",
      "\n",
      "         of       one   science  scientists       the      this  \n",
      "0  0.032017  0.016008  0.032017     0.00000  0.016008  0.000000  \n",
      "1  0.019566  0.019566  0.019566     0.00000  0.019566  0.053013  \n",
      "2  0.000000  0.000000  0.000000     0.11928  0.000000  0.000000  \n"
     ]
    }
   ],
   "source": [
    "#a) To demonstrate Term Frequency – Inverse Document Frequency (TF – IDF) using python\n",
    "import pandas as pd\n",
    "import numpy as np\n",
    "\n",
    "corpus = ['data science is one of the most important fields of science',\n",
    "          'this is one of the best data science courses',\n",
    "          'data scientists analyze data']\n",
    "words_set = set()\n",
    "\n",
    "for doc in corpus:\n",
    "    words = doc.split(' ')\n",
    "    words_set = words_set.union(set(words))\n",
    "\n",
    "n_docs = len(corpus)  # Number of documents in the corpus\n",
    "n_words_set = len(words_set)  # Number of unique words in the corpus\n",
    "df_tf = pd.DataFrame(np.zeros((n_docs, n_words_set)), columns=list(words_set))\n",
    "\n",
    "# Compute Term Frequency (TF)\n",
    "for i in range(n_docs):\n",
    "    words = corpus[i].split(' ')  # Words in the document\n",
    "    for w in words:\n",
    "        df_tf[w][i] = df_tf[w][i] + (1 / len(words))\n",
    "\n",
    "idf = {}\n",
    "for w in words_set:\n",
    "    k = 0  # number of documents in the corpus that contain this word\n",
    "    for i in range(n_docs):\n",
    "        if w in corpus[i].split():\n",
    "            k += 1\n",
    "    idf[w] = np.log10(n_docs / k)\n",
    "\n",
    "df_tf_idf = df_tf.copy()\n",
    "for w in words_set:\n",
    "    for i in range(n_docs):\n",
    "        df_tf_idf[w][i] = df_tf[w][i] * idf[w]\n",
    "\n",
    "print(df_tf_idf.sort_index(axis=1))\n"
   ]
  },
  {
   "cell_type": "code",
   "execution_count": 2,
   "id": "fcd112b9",
   "metadata": {},
   "outputs": [],
   "source": [
    "# b) To demonstrate word embeddings using word2vec"
   ]
  },
  {
   "cell_type": "code",
   "execution_count": 3,
   "id": "934d78fd",
   "metadata": {},
   "outputs": [
    {
     "name": "stdout",
     "output_type": "stream",
     "text": [
      "[[-5.3622725e-04  2.3643136e-04  5.1033497e-03 ... -7.0415605e-03\n",
      "   9.0145587e-04  6.3925339e-03]\n",
      " [-8.6196875e-03  3.6657380e-03  5.1898835e-03 ... -2.3915148e-03\n",
      "  -9.5100943e-03  4.5058788e-03]\n",
      " [ 9.4563962e-05  3.0773198e-03 -6.8126451e-03 ...  5.1259040e-04\n",
      "   8.2130842e-03 -7.0190406e-03]\n",
      " ...\n",
      " [ 9.7702928e-03  8.1651136e-03  1.2809718e-03 ... -2.9727400e-03\n",
      "  -4.9318983e-03 -2.3151112e-03]\n",
      " [-1.9442164e-03 -5.2675214e-03  9.4471136e-03 ...  5.9827138e-03\n",
      "   6.8153618e-03  7.8225443e-03]\n",
      " [-9.5001198e-03  9.5622232e-03 -7.7707553e-03 ... -3.1351077e-03\n",
      "  -6.3388194e-03  9.8700775e-03]]\n",
      "['sentence', 'the', 'is', 'this', 'final', 'and', 'more', 'one', 'another', 'yet', 'second', 'word2vec', 'for', 'first']\n"
     ]
    },
    {
     "data": {
      "image/png": "[encoded data removed]",
      "text/plain": [
       "<Figure size 640x480 with 1 Axes>"
      ]
     },
     "metadata": {},
     "output_type": "display_data"
    }
   ],
   "source": [
    "from gensim.models import Word2Vec\n",
    "from sklearn.decomposition import PCA\n",
    "from matplotlib import pyplot\n",
    "from sklearn.preprocessing import StandardScaler\n",
    "\n",
    "# define training data\n",
    "sentences = [['this', 'is', 'the', 'first', 'sentence', 'for', 'word2vec'],\n",
    "             ['this', 'is', 'the', 'second', 'sentence'],\n",
    "             ['yet', 'another', 'sentence'],\n",
    "             ['one', 'more', 'sentence'],\n",
    "             ['and', 'the', 'final', 'sentence']]\n",
    "\n",
    "# train model\n",
    "model = Word2Vec(sentences, min_count=1)\n",
    "\n",
    "# fit a 2d PCA model to the vectors\n",
    "X = model.wv.vectors\n",
    "word_vectors_norm = StandardScaler().fit_transform(X)\n",
    "print(X)\n",
    "\n",
    "pca = PCA(n_components=2)\n",
    "result = pca.fit_transform(word_vectors_norm)\n",
    "\n",
    "# create a scatter plot of the projection\n",
    "pyplot.scatter(result[:, 0], result[:, 1])\n",
    "words = list(model.wv.index_to_key)\n",
    "print(words)\n",
    "for i, word in enumerate(words):\n",
    "    pyplot.annotate(word, xy=(result[i, 0], result[i, 1]))\n",
    "pyplot.show()"
   ]
  },
  {
   "cell_type": "code",
   "execution_count": 4,
   "id": "bcb58539",
   "metadata": {},
   "outputs": [
    {
     "name": "stdout",
     "output_type": "stream",
     "text": [
      "-0.61994904\n",
      "0.23240039\n",
      "-0.09835175\n",
      "0.7049778\n"
     ]
    }
   ],
   "source": [
    "from gensim.models import Word2Vec\n",
    "\n",
    "#define a sample corpus\n",
    "corpus = [\n",
    "    ['apple', 'banana', 'orange', 'grape', 'pear'],\n",
    "    ['car', 'truck', 'bus', 'bike'],\n",
    "    ['happy', 'sad', 'angry', 'excited'],\n",
    "    ['cat', 'dog', 'bird', 'fish']\n",
    "]\n",
    "\n",
    "#train a Word2Vec model on the corpus\n",
    "model = Word2Vec(corpus, vector_size=10, window=15, min_count=1, workers=2)\n",
    "\n",
    "#check the similarity between similar words\n",
    "print(model.wv.similarity('apple', 'banana'))\n",
    "print(model.wv.similarity('bus', 'truck'))\n",
    "print(model.wv.similarity('happy', 'angry'))\n",
    "print(model.wv.similarity('cat', 'dog'))\n"
   ]
  },
  {
   "cell_type": "markdown",
   "id": "de3e4fe1",
   "metadata": {},
   "source": [
    "### Excersise 7"
   ]
  },
  {
   "cell_type": "code",
   "execution_count": 5,
   "id": "6c5aac75",
   "metadata": {},
   "outputs": [
    {
     "name": "stdout",
     "output_type": "stream",
     "text": [
      "Class_A\n",
      "Class_B\n",
      "0.8333333333333334\n"
     ]
    },
    {
     "name": "stderr",
     "output_type": "stream",
     "text": [
      "[nltk_data] Downloading package punkt to\n",
      "[nltk_data]     C:\\Users\\akanksh_02\\AppData\\Roaming\\nltk_data...\n",
      "[nltk_data]   Package punkt is already up-to-date!\n"
     ]
    }
   ],
   "source": [
    "import nltk\n",
    "nltk.download('punkt')\n",
    "from textblob.classifiers import NaiveBayesClassifier as NBC\n",
    "from textblob import TextBlob\n",
    "training_corpus = [\n",
    " ('I am exhausted of this work.', 'Class_B'),\n",
    " (\"I can't cooperate with this\", 'Class_B'),\n",
    " ('He is my badest enemy!', 'Class_B'),\n",
    " ('My management is poor.', 'Class_B'),\n",
    " ('I love this burger.', 'Class_A'),\n",
    " ('This is an brilliant place!', 'Class_A'),\n",
    " ('I feel very good about these dates.', 'Class_A'),\n",
    " ('This is my best work.', 'Class_A'),\n",
    " (\"What an awesome view\", 'Class_A'),\n",
    " ('I do not like this dish', 'Class_B')]\n",
    "test_corpus = [\n",
    " (\"I am not feeling well today.\", 'Class_B'),\n",
    " (\"I feel brilliant!\", 'Class_A'),\n",
    " ('Gary is a friend of mine.', 'Class_A'),\n",
    " (\"I can't believe I'm doing this.\", 'Class_B'),\n",
    " ('The date was good.', 'Class_A'), ('I do not enjoy my job', 'Class_B')]\n",
    "model = NBC(training_corpus)\n",
    "print(model.classify(\"Their codes are amazing.\"))\n",
    "print(model.classify(\"I don't like their computer.\"))\n",
    "print(model.accuracy(test_corpus))"
   ]
  },
  {
   "cell_type": "markdown",
   "id": "3e024e6a",
   "metadata": {},
   "source": [
    "### Excersise 8"
   ]
  },
  {
   "cell_type": "code",
   "execution_count": 6,
   "id": "770bcfcb",
   "metadata": {},
   "outputs": [],
   "source": [
    "#To apply support vector machine for text classification"
   ]
  },
  {
   "cell_type": "code",
   "execution_count": 7,
   "id": "e4f9cd46",
   "metadata": {},
   "outputs": [
    {
     "name": "stdout",
     "output_type": "stream",
     "text": [
      "['Class_A' 'Class_A' 'Class_B' 'Class_B' 'Class_A' 'Class_A']\n",
      "              precision    recall  f1-score   support\n",
      "\n",
      "     Class_A       0.50      0.67      0.57         3\n",
      "     Class_B       0.50      0.33      0.40         3\n",
      "\n",
      "    accuracy                           0.50         6\n",
      "   macro avg       0.50      0.50      0.49         6\n",
      "weighted avg       0.50      0.50      0.49         6\n",
      "\n"
     ]
    }
   ],
   "source": [
    "from sklearn.feature_extraction.text import TfidfVectorizer\n",
    "from sklearn.metrics import classification_report\n",
    "from sklearn import svm\n",
    "\n",
    "training_corpus = [\n",
    "    ('I am exhausted of this work.', 'Class_B'),\n",
    "    (\"I can't cooperate with this\", 'Class_B'),\n",
    "    ('He is my badest enemy!', 'Class_B'),\n",
    "    ('My management is poor.', 'Class_B'),\n",
    "    ('I love this burger.', 'Class_A'),\n",
    "    ('This is an brilliant place!', 'Class_A'),\n",
    "    ('I feel very good about these dates.', 'Class_A'),\n",
    "    ('This is my best work.', 'Class_A'),\n",
    "    (\"What an awesome view\", 'Class_A'),\n",
    "    ('I do not like this dish', 'Class_B')\n",
    "]\n",
    "\n",
    "test_corpus = [\n",
    "    (\"I am not feeling well today.\", 'Class_B'),\n",
    "    (\"I feel brilliant!\", 'Class_A'),\n",
    "    ('Gary is a friend of mine.', 'Class_A'),\n",
    "    (\"I can't believe I'm doing this.\", 'Class_B'),\n",
    "    ('The date was good.', 'Class_A'),\n",
    "    ('I do not enjoy my job', 'Class_B')\n",
    "]\n",
    "\n",
    "# preparing data for SVM model (using the same training_corpus, test_corpus from naive bayes example)\n",
    "train_data = []\n",
    "train_labels = []\n",
    "for row in training_corpus:\n",
    "    train_data.append(row[0])\n",
    "    train_labels.append(row[1])\n",
    "\n",
    "test_data = []\n",
    "test_labels = []\n",
    "for row in test_corpus:\n",
    "    test_data.append(row[0])\n",
    "    test_labels.append(row[1])\n",
    "\n",
    "# Create feature vectors\n",
    "vectorizer = TfidfVectorizer(min_df=4, max_df=0.9)\n",
    "\n",
    "# Train the feature vectors\n",
    "train_vectors = vectorizer.fit_transform(train_data)\n",
    "\n",
    "# Apply model on test data\n",
    "test_vectors = vectorizer.transform(test_data)\n",
    "\n",
    "# Perform classification with SVM, kernel=linear\n",
    "model = svm.SVC(kernel='linear')\n",
    "model.fit(train_vectors, train_labels)\n",
    "\n",
    "prediction = model.predict(test_vectors)\n",
    "\n",
    "print(prediction)\n",
    "print(classification_report(test_labels, prediction))\n"
   ]
  },
  {
   "cell_type": "markdown",
   "id": "247708de",
   "metadata": {},
   "source": [
    "### Excersise 9"
   ]
  },
  {
   "cell_type": "code",
   "execution_count": 8,
   "id": "4cc2a480",
   "metadata": {},
   "outputs": [],
   "source": [
    "#To convert text to vectors (using term frequency) and apply cosine similarity to provide closeness among two texts."
   ]
  },
  {
   "cell_type": "code",
   "execution_count": 9,
   "id": "6fdb59dc",
   "metadata": {},
   "outputs": [
    {
     "name": "stdout",
     "output_type": "stream",
     "text": [
      "Counter({'This': 1, 'is': 1, 'an': 1, 'article': 1, 'on': 1, 'analytics': 1, 'vidhya': 1})\n",
      "Counter({'article': 1, 'on': 1, 'analytics': 1, 'vidhya': 1, 'is': 1, 'about': 1, 'natural': 1, 'language': 1, 'processing': 1})\n",
      "dict_keys(['This', 'is', 'an', 'article', 'on', 'analytics', 'vidhya'])\n",
      "dict_keys(['article', 'on', 'analytics', 'vidhya', 'is', 'about', 'natural', 'language', 'processing'])\n",
      "{'is', 'vidhya', 'article', 'on', 'analytics'}\n",
      "0.629940788348712\n"
     ]
    }
   ],
   "source": [
    "import math\n",
    "from collections import Counter\n",
    "\n",
    "def get_cosine(vec1, vec2):\n",
    "    print(vec1.keys())\n",
    "    print(vec2.keys())\n",
    "    common = set(vec1.keys()) & set(vec2.keys())\n",
    "    print(common)\n",
    "    numerator = sum([vec1[x] * vec2[x] for x in common])\n",
    "    sum1 = sum([vec1[x]**2 for x in vec1.keys()])\n",
    "    sum2 = sum([vec2[x]**2 for x in vec2.keys()])\n",
    "    denominator = math.sqrt(sum1) * math.sqrt(sum2)\n",
    "    if not denominator:\n",
    "        return 0.0\n",
    "    else:\n",
    "        return float(numerator) / denominator\n",
    "\n",
    "def text_to_vector(text):\n",
    "    words = text.split()\n",
    "    return Counter(words)\n",
    "\n",
    "text1 = 'This is an article on analytics vidhya'\n",
    "text2 = 'article on analytics vidhya is about natural language processing'\n",
    "\n",
    "vector1 = text_to_vector(text1)\n",
    "vector2 = text_to_vector(text2)\n",
    "\n",
    "print(vector1)\n",
    "print(vector2)\n",
    "\n",
    "cosine = get_cosine(vector1, vector2)\n",
    "print(cosine)\n"
   ]
  },
  {
   "cell_type": "code",
   "execution_count": null,
   "id": "3f0ce02f",
   "metadata": {},
   "outputs": [],
   "source": []
  }
 ],
 "metadata": {
  "kernelspec": {
   "display_name": "Python 3 (ipykernel)",
   "language": "python",
   "name": "python3"
  },
  "language_info": {
   "codemirror_mode": {
    "name": "ipython",
    "version": 3
   },
   "file_extension": ".py",
   "mimetype": "text/x-python",
   "name": "python",
   "nbconvert_exporter": "python",
   "pygments_lexer": "ipython3",
   "version": "3.11.5"
  }
 },
 "nbformat": 4,
 "nbformat_minor": 5
}
