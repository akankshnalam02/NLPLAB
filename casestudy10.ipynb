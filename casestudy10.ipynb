{
 "cells": [
  {
   "cell_type": "markdown",
   "id": "c1192b03",
   "metadata": {},
   "source": [
    "### case study 1 ex10"
   ]
  },
  {
   "cell_type": "code",
   "execution_count": 1,
   "id": "f6de3785",
   "metadata": {},
   "outputs": [
    {
     "name": "stdout",
     "output_type": "stream",
     "text": [
      "   id  label                                              tweet\n",
      "0   1      0  #fingerprint #Pregnancy Test https://goo.gl/h1...\n",
      "1   2      0  Finally a transparant silicon case ^^ Thanks t...\n",
      "2   3      0  We love this! Would you go? #talk #makememorie...\n",
      "3   4      0  I'm wired I know I'm George I was made that wa...\n",
      "4   5      1  What amazing service! Apple won't even talk to...\n",
      "     id                                              tweet\n",
      "0  7921  I hate the new #iphone upgrade. Won't let me d...\n",
      "1  7922  currently shitting my fucking pants. #apple #i...\n",
      "2  7923  I'd like to puts some CD-ROMS on my iPad, is t...\n",
      "3  7924  My ipod is officially dead. I lost all my pict...\n",
      "4  7925  Been fighting iTunes all night! I only want th...\n"
     ]
    }
   ],
   "source": [
    "# Case Study-1\n",
    "import numpy as np\n",
    "import pandas as pd\n",
    "import seaborn as sns\n",
    "import matplotlib.pyplot as plt\n",
    "from nltk.corpus import stopwords\n",
    "from nltk.stem import WordNetLemmatizer\n",
    "from nltk import word_tokenize\n",
    "import re\n",
    "from sklearn.naive_bayes import GaussianNB\n",
    "from sklearn.ensemble import RandomForestClassifier\n",
    "\n",
    "train = pd.read_csv(\"nlptrain.csv\")\n",
    "test = pd.read_csv(\"nlptest.csv\")\n",
    "print(train.head())\n",
    "print(test.head())"
   ]
  },
  {
   "cell_type": "code",
   "execution_count": 2,
   "id": "aa63599d",
   "metadata": {},
   "outputs": [
    {
     "data": {
      "text/html": [
       "<div>\n",
       "<style scoped>\n",
       "    .dataframe tbody tr th:only-of-type {\n",
       "        vertical-align: middle;\n",
       "    }\n",
       "\n",
       "    .dataframe tbody tr th {\n",
       "        vertical-align: top;\n",
       "    }\n",
       "\n",
       "    .dataframe thead th {\n",
       "        text-align: right;\n",
       "    }\n",
       "</style>\n",
       "<table border=\"1\" class=\"dataframe\">\n",
       "  <thead>\n",
       "    <tr style=\"text-align: right;\">\n",
       "      <th></th>\n",
       "      <th>id</th>\n",
       "      <th>label</th>\n",
       "      <th>tweet</th>\n",
       "    </tr>\n",
       "  </thead>\n",
       "  <tbody>\n",
       "    <tr>\n",
       "      <th>0</th>\n",
       "      <td>1</td>\n",
       "      <td>0.0</td>\n",
       "      <td>#fingerprint #Pregnancy Test https://goo.gl/h1...</td>\n",
       "    </tr>\n",
       "    <tr>\n",
       "      <th>1</th>\n",
       "      <td>2</td>\n",
       "      <td>0.0</td>\n",
       "      <td>Finally a transparant silicon case ^^ Thanks t...</td>\n",
       "    </tr>\n",
       "    <tr>\n",
       "      <th>2</th>\n",
       "      <td>3</td>\n",
       "      <td>0.0</td>\n",
       "      <td>We love this! Would you go? #talk #makememorie...</td>\n",
       "    </tr>\n",
       "    <tr>\n",
       "      <th>3</th>\n",
       "      <td>4</td>\n",
       "      <td>0.0</td>\n",
       "      <td>I'm wired I know I'm George I was made that wa...</td>\n",
       "    </tr>\n",
       "    <tr>\n",
       "      <th>4</th>\n",
       "      <td>5</td>\n",
       "      <td>1.0</td>\n",
       "      <td>What amazing service! Apple won't even talk to...</td>\n",
       "    </tr>\n",
       "  </tbody>\n",
       "</table>\n",
       "</div>"
      ],
      "text/plain": [
       "   id  label                                              tweet\n",
       "0   1    0.0  #fingerprint #Pregnancy Test https://goo.gl/h1...\n",
       "1   2    0.0  Finally a transparant silicon case ^^ Thanks t...\n",
       "2   3    0.0  We love this! Would you go? #talk #makememorie...\n",
       "3   4    0.0  I'm wired I know I'm George I was made that wa...\n",
       "4   5    1.0  What amazing service! Apple won't even talk to..."
      ]
     },
     "execution_count": 2,
     "metadata": {},
     "output_type": "execute_result"
    }
   ],
   "source": [
    "# creating a combined df\n",
    "tweet_df = pd.concat([train, test])\n",
    "tweet_df.head()"
   ]
  },
  {
   "cell_type": "code",
   "execution_count": 3,
   "id": "5391fb1d",
   "metadata": {},
   "outputs": [
    {
     "name": "stdout",
     "output_type": "stream",
     "text": [
      "shape of train_set: (7920, 3)\n",
      "shape of test_set: (1953, 2)\n",
      "shape of combined df: (9873, 3)\n",
      "                id        label\n",
      "count  9873.000000  7920.000000\n",
      "mean   4937.000000     0.255808\n",
      "std    2850.233938     0.436342\n",
      "min       1.000000     0.000000\n",
      "25%    2469.000000     0.000000\n",
      "50%    4937.000000     0.000000\n",
      "75%    7405.000000     1.000000\n",
      "max    9873.000000     1.000000\n",
      "id         int64\n",
      "label    float64\n",
      "tweet     object\n",
      "dtype: object\n"
     ]
    }
   ],
   "source": [
    "# EDA\n",
    "print(\"shape of train_set:\",train.shape)\n",
    "print(\"shape of test_set:\",test.shape)\n",
    "print(\"shape of combined df:\",tweet_df.shape)\n",
    "print(tweet_df.describe())\n",
    "print(tweet_df.dtypes)"
   ]
  },
  {
   "cell_type": "code",
   "execution_count": 4,
   "id": "c0ab4535",
   "metadata": {},
   "outputs": [
    {
     "data": {
      "text/plain": [
       "id          0\n",
       "label    1953\n",
       "tweet       0\n",
       "dtype: int64"
      ]
     },
     "execution_count": 4,
     "metadata": {},
     "output_type": "execute_result"
    }
   ],
   "source": [
    "tweet_df.isnull().sum()"
   ]
  },
  {
   "cell_type": "code",
   "execution_count": 5,
   "id": "a1b3ca20",
   "metadata": {},
   "outputs": [
    {
     "data": {
      "text/plain": [
       "label\n",
       "0.0    5894\n",
       "1.0    2026\n",
       "Name: count, dtype: int64"
      ]
     },
     "execution_count": 5,
     "metadata": {},
     "output_type": "execute_result"
    }
   ],
   "source": [
    "# checking unique labels and their count\n",
    "tweet_df['label'].value_counts()"
   ]
  },
  {
   "cell_type": "code",
   "execution_count": 6,
   "id": "a3400cfe",
   "metadata": {},
   "outputs": [
    {
     "data": {
      "text/plain": [
       "<Axes: xlabel='label', ylabel='count'>"
      ]
     },
     "execution_count": 6,
     "metadata": {},
     "output_type": "execute_result"
    },
    {
     "data": {
      "image/png": "[encoded data removed]",
      "text/plain": [
       "<Figure size 640x480 with 1 Axes>"
      ]
     },
     "metadata": {},
     "output_type": "display_data"
    }
   ],
   "source": [
    "# plotting the unique labels\n",
    "sns.countplot(x='label', data=tweet_df)"
   ]
  },
  {
   "cell_type": "code",
   "execution_count": 7,
   "id": "e2ed928b",
   "metadata": {},
   "outputs": [],
   "source": [
    "# Cleaning Raw tweets\n",
    "def clean_text(text):\n",
    "    #remove emails\n",
    "    text = ' '.join([i for i in text.split() if '@' not in i])\n",
    "    #remove web address ? Means matching anything to its left \\S all non white space characters\n",
    "    text = re.sub('http[s]?://\\S+', '', text)\n",
    "    #Filter to allow only alphabets\n",
    "    text = re.sub(r'[^a-zA-Z\\']', ' ', text)\n",
    "    #Remove Unicode characters\n",
    "    text = re.sub(r'[^\\x00-\\x7F]+', '', text)\n",
    "    #Convert to lowercase to maintain consistency\n",
    "    text = text.lower()\n",
    "    #remove double spaces\n",
    "    text = re.sub('\\s+', ' ',text)\n",
    "    return text\n",
    "tweet_df[\"clean_tweet\"] = tweet_df.tweet.apply(lambda x: clean_text(x))\n",
    "\n",
    "STOP_WORDS = ['a', 'about', 'above', 'after', 'again', 'against', 'all','also', 'am', 'an', 'and','any', 'are',\n",
    "\"aren't\", 'as', 'at', 'be', 'because', 'been', 'before', 'being', 'below','between', 'both', 'but', 'by', 'can',\n",
    "\"can't\", 'cannot', 'com', 'could', \"couldn't\", 'did',\"didn't\", 'do', 'does', \"doesn't\", 'doing', \"don't\",\n",
    "'down', 'during', 'each', 'else', 'ever','few', 'for', 'from', 'further', 'get', 'had', \"hadn't\", 'has',\"hasn't\",\n",
    "'have', \"haven't\", 'having','he', \"he'd\", \"he'll\", \"he's\", 'her', 'here', \"here's\", 'hers', 'herself', 'him',\n",
    "'himself', 'his', 'how',\"how's\", 'however', 'http', 'i', \"i'd\", \"i'll\", \"i'm\", \"i've\",'if', 'in', 'into', 'is', \"isn't\",\n",
    "'it',\"it's\", 'its', 'itself', 'just', 'k', \"let's\", 'like', 'me','more', 'most', \"mustn't\", 'my', 'myself','no', 'nor',\n",
    "'not', 'of', 'off', 'on', 'once', 'only', 'or', 'other', 'otherwise', 'ought', 'our', 'ours', 'ourselves', 'out', 'over',\n",
    "'own', 'r', 'same', 'shall',\"shan't\", 'she', \"she'd\", \"she'll\", \"she's\",'should', \"shouldn't\", 'since', 'so',\n",
    "'some', 'such', 'than', 'that', \"that's\", 'the', 'their', 'theirs','them', 'themselves', 'then', 'there', \"there's\",\n",
    "'these','they', \"they'd\", \"they'll\", \"they're\",\"they've\", 'this', 'those', 'through', 'to', 'too', 'under','until',\n",
    "'up', 'very', 'was', \"wasn't\",'we', \"we'd\", \"we'll\", \"we're\", \"we've\", 'were', \"weren't\",'what', \"what's\",\n",
    "'when', \"when's\", 'where',\"where's\", 'which', 'while', 'who', \"who's\", 'whom', 'why',\"why's\", 'with',\n",
    "\"won't\", 'would', \"wouldn't\",'www', 'you', \"you'd\", \"you'll\", \"you're\", \"you've\", 'your','yours',\n",
    "'yourself', 'yourselves']"
   ]
  },
  {
   "cell_type": "code",
   "execution_count": 8,
   "id": "0a46db35",
   "metadata": {},
   "outputs": [
    {
     "name": "stdout",
     "output_type": "stream",
     "text": [
      "   id  label                                      cleaned_tweet\n",
      "0   1    0.0  fingerprint pregnancy test android apps beauti...\n",
      "1   2    0.0  finally transparant silicon case thanks uncle ...\n",
      "2   3    0.0  love go talk makememories unplug relax iphone ...\n",
      "3   4    0.0  wired know george made way iphone cute daventr...\n",
      "4   5    1.0  amazing service apple even talk question unles...\n",
      "--------------------------------------------------------------\n",
      "     id  label                                      cleaned_tweet\n",
      "0  7921    NaN  hate new iphone upgrade let download apps ugh ...\n",
      "1  7922    NaN  currently shitting fucking pants apple imac ca...\n",
      "2  7923    NaN      puts cd roms ipad possible ' yes block screen\n",
      "3  7924    NaN  ipod officially dead lost pictures videos d so...\n",
      "4  7925    NaN              fighting itunes night want music paid\n"
     ]
    }
   ],
   "source": [
    "# Remove stopwords from all the tweets\n",
    "tweet_df['cleaned_tweet'] = tweet_df['clean_tweet'].apply(lambda x: ' '.join([word for word in x.split() if word not in (STOP_WORDS)]))\n",
    "\n",
    "# Adding New feature length of Tweet\n",
    "tweet_df['word_count']=tweet_df.cleaned_tweet.str.split().apply(lambda x: len(x))\n",
    "ndf=tweet_df.copy()\n",
    "ndf = ndf.drop(['tweet','clean_tweet','word_count'], axis = 1)\n",
    "\n",
    "# Seperating Train and Test Set\n",
    "train_set = ndf[~ndf.label.isnull()]\n",
    "test_set = ndf[ndf.label.isnull()]\n",
    "print(train_set.head())\n",
    "print(\"--------------------------------------------------------------\")\n",
    "print(test_set.head())"
   ]
  },
  {
   "cell_type": "code",
   "execution_count": 9,
   "id": "9eae6511",
   "metadata": {},
   "outputs": [],
   "source": [
    "# removing target column from test_set\n",
    "test_set = test_set.drop('label', axis=1)"
   ]
  },
  {
   "cell_type": "code",
   "execution_count": 10,
   "id": "fc4d1180",
   "metadata": {},
   "outputs": [
    {
     "name": "stdout",
     "output_type": "stream",
     "text": [
      "(6336,) (1584,) (6336,) (1584,)\n"
     ]
    }
   ],
   "source": [
    "# Defining X and y\n",
    "X = train_set.drop('label', axis=1)\n",
    "y = train_set.label\n",
    "\n",
    "X = X['cleaned_tweet'].astype(str)\n",
    "# Train_test_split\n",
    "from sklearn.model_selection import train_test_split\n",
    "x_train, x_test, y_train, y_test = train_test_split(X,y, test_size=0.2, random_state=42)\n",
    "\n",
    "print(x_train.shape, x_test.shape, y_train.shape, y_test.shape)"
   ]
  },
  {
   "cell_type": "code",
   "execution_count": 11,
   "id": "e52962e5",
   "metadata": {},
   "outputs": [],
   "source": [
    "# vectorization\n",
    "from sklearn.feature_extraction.text import TfidfVectorizer\n",
    "vect = TfidfVectorizer()\n",
    "vect.fit(x_train)\n",
    "\n",
    "x_train_dtm = vect.transform(x_train)\n",
    "x_test_dtm = vect.transform(x_test)"
   ]
  },
  {
   "cell_type": "code",
   "execution_count": 12,
   "id": "0ccad753",
   "metadata": {},
   "outputs": [
    {
     "name": "stdout",
     "output_type": "stream",
     "text": [
      "Accuracy :  86.9949494949495 %\n"
     ]
    }
   ],
   "source": [
    "# Model training\n",
    "from sklearn.ensemble import RandomForestClassifier as RFC\n",
    "from sklearn.metrics import accuracy_score\n",
    "model = RFC(n_estimators=200)\n",
    "model.fit(x_train_dtm,y_train)\n",
    "y_pred = model.predict(x_test_dtm)\n",
    "print(\"Accuracy : \",accuracy_score(y_test,y_pred)*100,\"%\")"
   ]
  },
  {
   "cell_type": "code",
   "execution_count": 13,
   "id": "4ebaa11e",
   "metadata": {},
   "outputs": [
    {
     "name": "stdout",
     "output_type": "stream",
     "text": [
      "[[0.95746528 0.11342593]\n",
      " [0.13628472 0.63657407]]\n",
      "              precision    recall  f1-score   support\n",
      "\n",
      "Not Negative       0.88      0.96      0.91      1152\n",
      "    Negative       0.85      0.64      0.73       432\n",
      "\n",
      "    accuracy                           0.87      1584\n",
      "   macro avg       0.86      0.80      0.82      1584\n",
      "weighted avg       0.87      0.87      0.86      1584\n",
      "\n"
     ]
    }
   ],
   "source": [
    "# Compute confusion matrix\n",
    "from sklearn.metrics import confusion_matrix\n",
    "cnf_matrix = confusion_matrix(y_test, y_pred)\n",
    "cnf_matrix= cnf_matrix / cnf_matrix.astype(np.float64).sum(axis=1)\n",
    "# Plot normalized confusion matrix\n",
    "print(cnf_matrix)\n",
    "\n",
    "# Evaluation Metrics\n",
    "from sklearn.metrics import classification_report\n",
    "class_names = ['Not Negative','Negative']\n",
    "eval_metrics = classification_report(y_test, y_pred, target_names=class_names)\n",
    "print(eval_metrics)"
   ]
  },
  {
   "cell_type": "code",
   "execution_count": 14,
   "id": "22a7199e",
   "metadata": {},
   "outputs": [],
   "source": [
    "## or take this code for google drive\n",
    "## check hastags"
   ]
  },
  {
   "cell_type": "code",
   "execution_count": 15,
   "id": "9ddc482e",
   "metadata": {},
   "outputs": [
    {
     "data": {
      "text/html": [
       "<div>\n",
       "<style scoped>\n",
       "    .dataframe tbody tr th:only-of-type {\n",
       "        vertical-align: middle;\n",
       "    }\n",
       "\n",
       "    .dataframe tbody tr th {\n",
       "        vertical-align: top;\n",
       "    }\n",
       "\n",
       "    .dataframe thead th {\n",
       "        text-align: right;\n",
       "    }\n",
       "</style>\n",
       "<table border=\"1\" class=\"dataframe\">\n",
       "  <thead>\n",
       "    <tr style=\"text-align: right;\">\n",
       "      <th></th>\n",
       "      <th>id</th>\n",
       "      <th>label</th>\n",
       "      <th>tweet</th>\n",
       "    </tr>\n",
       "  </thead>\n",
       "  <tbody>\n",
       "    <tr>\n",
       "      <th>0</th>\n",
       "      <td>1</td>\n",
       "      <td>0.0</td>\n",
       "      <td>#fingerprint #Pregnancy Test https://goo.gl/h1...</td>\n",
       "    </tr>\n",
       "    <tr>\n",
       "      <th>1</th>\n",
       "      <td>2</td>\n",
       "      <td>0.0</td>\n",
       "      <td>Finally a transparant silicon case ^^ Thanks t...</td>\n",
       "    </tr>\n",
       "    <tr>\n",
       "      <th>2</th>\n",
       "      <td>3</td>\n",
       "      <td>0.0</td>\n",
       "      <td>We love this! Would you go? #talk #makememorie...</td>\n",
       "    </tr>\n",
       "    <tr>\n",
       "      <th>3</th>\n",
       "      <td>4</td>\n",
       "      <td>0.0</td>\n",
       "      <td>I'm wired I know I'm George I was made that wa...</td>\n",
       "    </tr>\n",
       "    <tr>\n",
       "      <th>4</th>\n",
       "      <td>5</td>\n",
       "      <td>1.0</td>\n",
       "      <td>What amazing service! Apple won't even talk to...</td>\n",
       "    </tr>\n",
       "  </tbody>\n",
       "</table>\n",
       "</div>"
      ],
      "text/plain": [
       "   id  label                                              tweet\n",
       "0   1    0.0  #fingerprint #Pregnancy Test https://goo.gl/h1...\n",
       "1   2    0.0  Finally a transparant silicon case ^^ Thanks t...\n",
       "2   3    0.0  We love this! Would you go? #talk #makememorie...\n",
       "3   4    0.0  I'm wired I know I'm George I was made that wa...\n",
       "4   5    1.0  What amazing service! Apple won't even talk to..."
      ]
     },
     "execution_count": 15,
     "metadata": {},
     "output_type": "execute_result"
    }
   ],
   "source": [
    "##from google.colab import drive\n",
    "##drive.mount('/content/drive/')\n",
    "import numpy as np \n",
    "import pandas as pd\n",
    "import seaborn as sns\n",
    "import matplotlib.pyplot as plt\n",
    "from nltk.corpus import stopwords\n",
    "from nltk.stem import WordNetLemmatizer\n",
    "from nltk import word_tokenize\n",
    "import re\n",
    "from sklearn.naive_bayes import GaussianNB\n",
    "from sklearn.ensemble import RandomForestClassifier\n",
    "import numpy as np \n",
    "import pandas as pd \n",
    "import seaborn as sns\n",
    "import matplotlib.pyplot as plt\n",
    "from nltk.corpus import stopwords\n",
    "from nltk.stem import WordNetLemmatizer\n",
    "from nltk import word_tokenize\n",
    "import re\n",
    "from sklearn.naive_bayes import GaussianNB\n",
    "from sklearn.ensemble import RandomForestClassifier\n",
    "##%cd drive\n",
    "##%cd MyDrive/Identify-the-Sentiments-master\n",
    "# reading dataset\n",
    "train = pd.read_csv('nlptrain.csv')\n",
    "test = pd.read_csv('nlptest.csv')\n",
    "# concatenating both datasets\n",
    "df = pd.concat([train, test])\n",
    "df.head()"
   ]
  },
  {
   "cell_type": "code",
   "execution_count": 16,
   "id": "4df7e414",
   "metadata": {},
   "outputs": [
    {
     "name": "stdout",
     "output_type": "stream",
     "text": [
      "(7920, 3) (1953, 2) (9873, 3)\n"
     ]
    },
    {
     "data": {
      "text/plain": [
       "<Axes: xlabel='label', ylabel='count'>"
      ]
     },
     "execution_count": 16,
     "metadata": {},
     "output_type": "execute_result"
    },
    {
     "data": {
      "image/png": "[encoded data removed]",
      "text/plain": [
       "<Figure size 640x480 with 1 Axes>"
      ]
     },
     "metadata": {},
     "output_type": "display_data"
    }
   ],
   "source": [
    "# checking for shape\n",
    "print(train.shape, test.shape, df.shape)\n",
    "df.describe()\n",
    "# checking dtypes\n",
    "df.dtypes\n",
    "df.isnull().sum()\n",
    "# Checking unique labels\n",
    "df['label'].value_counts()\n",
    "# Ploting unique labels\n",
    "sns.countplot(x='label', data=df)"
   ]
  },
  {
   "cell_type": "code",
   "execution_count": 17,
   "id": "d40e94e2",
   "metadata": {},
   "outputs": [],
   "source": [
    "# Cleaning Raw tweets\n",
    "def clean_text(text):\n",
    "        #remove emails\n",
    "        text = ' '.join([i for i in text.split() if '@' not in i])\n",
    "        #remove web address ? Means matching anything to its left \\S all non white space characters\n",
    "        text = re.sub('http[s]?://\\S+', '', text)\n",
    "        #Filter to allow only alphabets\n",
    "        text = re.sub(r'[^a-zA-Z\\']', ' ', text)\n",
    "        #Remove Unicode characters\n",
    "        text = re.sub(r'[^\\x00-\\x7F]+', '', text)\n",
    "        #Convert to lowercase to maintain consistency\n",
    "        text = text.lower()\n",
    "        #remove double spaces\n",
    "        text = re.sub('\\s+', ' ',text)\n",
    "        return text\n",
    "df[\"clean_tweet\"] = df.tweet.apply(lambda x: clean_text(x))"
   ]
  },
  {
   "cell_type": "code",
   "execution_count": 18,
   "id": "8dd6f9ed",
   "metadata": {},
   "outputs": [],
   "source": [
    "STOP_WORDS = ['a', 'about', 'above', 'after', 'again', 'against', 'all','also', 'am', 'an', 'and','any', 'are',\n",
    "\"aren't\", 'as', 'at', 'be', 'because', 'been','before', 'being', 'below','between', 'both', 'but', 'by', 'can',\n",
    "\"can't\", 'cannot', 'com','could', \"couldn't\", 'did',\"didn't\", 'do', 'does', \"doesn't\", 'doing', \"don't\",\n",
    "'down', 'during', 'each', 'else', 'ever','few', 'for', 'from', 'further', 'get', 'had', \"hadn't\", 'has',\"hasn't\",\n",
    "'have', \"haven't\", 'having','he', \"he'd\", \"he'll\", \"he's\", 'her', 'here', \"here's\", 'hers','herself', 'him',\n",
    "'himself', 'his', 'how',\"how's\", 'however', 'http', 'i', \"i'd\", \"i'll\", \"i'm\", \"i've\",'if', 'in', 'into', 'is', \"isn't\",\n",
    "'it',\"it's\", 'its', 'itself', 'just', 'k', \"let's\", 'like', 'me','more', 'most', \"mustn't\", 'my', 'myself','no', 'nor',\n",
    "'not', 'of', 'off', 'on', 'once', 'only', 'or','other', 'otherwise','ought', 'our', 'ours','ourselves', 'out', 'over',\n",
    "'own', 'r', 'same', 'shall',\"shan't\", 'she', \"she'd\", \"she'll\", \"she's\",'should', \"shouldn't\", 'since', 'so',\n",
    "'some', 'such', 'than','that', \"that's\", 'the', 'their', 'theirs','them', 'themselves', 'then', 'there', \"there's\",\n",
    "'these','they', \"they'd\", \"they'll\", \"they're\",\"they've\", 'this', 'those', 'through', 'to', 'too', 'under','until',\n",
    "'up', 'very', 'was', \"wasn't\",'we', \"we'd\", \"we'll\", \"we're\", \"we've\", 'were', \"weren't\",'what', \"what's\",\n",
    "'when', \"when's\", 'where',\"where's\", 'which', 'while', 'who', \"who's\", 'whom', 'why',\"why's\", 'with',\n",
    "\"won't\", 'would', \"wouldn't\",'www', 'you', \"you'd\", \"you'll\", \"you're\", \"you've\", 'your','yours',\n",
    "'yourself', 'yourselves']"
   ]
  },
  {
   "cell_type": "code",
   "execution_count": 19,
   "id": "6e7368f8",
   "metadata": {},
   "outputs": [
    {
     "name": "stdout",
     "output_type": "stream",
     "text": [
      "(7920, 3) (1953, 3)\n",
      "(5544,) (2376,) (5544,) (2376,)\n",
      "Accuracy: 86.32154882154882 %\n",
      "[[0.9529745  0.0470255 ]\n",
      " [0.39607201 0.60392799]]\n",
      "              precision    recall  f1-score   support\n",
      "\n",
      "Not Negative       0.87      0.95      0.91      1765\n",
      "    Negative       0.82      0.60      0.69       611\n",
      "\n",
      "    accuracy                           0.86      2376\n",
      "   macro avg       0.85      0.78      0.80      2376\n",
      "weighted avg       0.86      0.86      0.86      2376\n",
      "\n"
     ]
    }
   ],
   "source": [
    "import pandas as pd\n",
    "from sklearn.model_selection import train_test_split\n",
    "from sklearn.feature_extraction.text import CountVectorizer\n",
    "from sklearn.ensemble import RandomForestClassifier\n",
    "from sklearn.metrics import accuracy_score, confusion_matrix, classification_report\n",
    "import numpy as np\n",
    "\n",
    "# Assuming STOP_WORDS is defined elsewhere\n",
    "# Remove stopwords from all the tweets\n",
    "df['cleaned_tweet'] = df['clean_tweet'].apply(lambda x: ' '.join([word for word in x.split() if word not in STOP_WORDS]))\n",
    "\n",
    "# Adding new feature length of Tweet\n",
    "df['word_count'] = df.cleaned_tweet.str.split().apply(lambda x: len(x))\n",
    "\n",
    "# Copy DataFrame and drop unnecessary columns\n",
    "ndf = df.copy()\n",
    "ndf = ndf.drop(['tweet', 'clean_tweet', 'word_count'], axis=1)\n",
    "\n",
    "# Separating Train and Test Set\n",
    "train_set = ndf[~ndf.label.isnull()]\n",
    "test_set = ndf[ndf.label.isnull()]  # Assuming test_set is the remaining rows without labels\n",
    "\n",
    "# Print shapes of train and test sets\n",
    "print(train_set.shape, test_set.shape)\n",
    "\n",
    "# Defining X and y\n",
    "X = train_set.drop(['label'], axis=1)\n",
    "y = train_set.label\n",
    "\n",
    "# Dropping target column from test set\n",
    "test_set = test_set.drop(['label'], axis=1)\n",
    "\n",
    "# Cast cleaned_tweet to string\n",
    "X = X['cleaned_tweet'].astype(str)\n",
    "\n",
    "# Train test split\n",
    "X_train, X_test, y_train, y_test = train_test_split(X, y, test_size=0.3, random_state=3)\n",
    "print(X_train.shape, X_test.shape, y_train.shape, y_test.shape)\n",
    "\n",
    "# Vectorizing the text data\n",
    "vect = CountVectorizer()\n",
    "vect.fit(X_train)\n",
    "X_train_dtm = vect.transform(X_train)\n",
    "X_test_dtm = vect.transform(X_test)\n",
    "\n",
    "# Model training and prediction\n",
    "model = RandomForestClassifier(n_estimators=200)\n",
    "model.fit(X_train_dtm, y_train)\n",
    "rf = model.predict(X_test_dtm)\n",
    "print(\"Accuracy:\", accuracy_score(y_test, rf) * 100, \"%\")\n",
    "\n",
    "# Compute confusion matrix\n",
    "cnf_matrix = confusion_matrix(y_test, rf)\n",
    "cnf_matrix = cnf_matrix / cnf_matrix.astype(np.float64).sum(axis=1, keepdims=True)\n",
    "class_names = ['Not Negative', 'Negative']\n",
    "\n",
    "# Print normalized confusion matrix\n",
    "print(cnf_matrix)\n",
    "\n",
    "# Classification report\n",
    "eval_metrics = classification_report(y_test, rf, target_names=class_names)\n",
    "print(eval_metrics)\n"
   ]
  },
  {
   "cell_type": "code",
   "execution_count": null,
   "id": "39624863",
   "metadata": {},
   "outputs": [],
   "source": []
  }
 ],
 "metadata": {
  "kernelspec": {
   "display_name": "Python 3 (ipykernel)",
   "language": "python",
   "name": "python3"
  },
  "language_info": {
   "codemirror_mode": {
    "name": "ipython",
    "version": 3
   },
   "file_extension": ".py",
   "mimetype": "text/x-python",
   "name": "python",
   "nbconvert_exporter": "python",
   "pygments_lexer": "ipython3",
   "version": "3.11.5"
  }
 },
 "nbformat": 4,
 "nbformat_minor": 5
}
